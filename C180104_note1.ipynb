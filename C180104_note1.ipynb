{
  "cells": [
    {
      "metadata": {
        "trusted": true
      },
      "cell_type": "code",
      "source": "#sigmoid\nimport numpy as np\n\nimport matplotlib.pyplot as plt\n%matplotlib inline\n\ndef sigmoid(x):\n    return 1/(1+np.exp(-x))",
      "execution_count": 3,
      "outputs": []
    },
    {
      "metadata": {
        "trusted": true
      },
      "cell_type": "code",
      "source": "x=4\nsigmoid(x)",
      "execution_count": 2,
      "outputs": [
        {
          "output_type": "execute_result",
          "execution_count": 2,
          "data": {
            "text/plain": "0.9820137900379085"
          },
          "metadata": {}
        }
      ]
    },
    {
      "metadata": {
        "trusted": true
      },
      "cell_type": "code",
      "source": "x=np.arange(-6.0,6.0,0.1)\n\n\ny=sigmoid(x)\n\nplt.plot(x,y)\n\nplt.show()",
      "execution_count": 4,
      "outputs": [
        {
          "output_type": "display_data",
          "data": {
            "image/png": "[encoded data removed]",
            "text/plain": "<Figure size 432x288 with 1 Axes>"
          },
          "metadata": {
            "needs_background": "light"
          }
        }
      ]
    },
    {
      "metadata": {
        "trusted": true
      },
      "cell_type": "code",
      "source": "\nX=np.array([1,0.6,-0.4])\n\nw=np.array([-0.2,0.2,0.8])\n\nx=w[0]*X[0]+w[1]*X[1]+w[2]*X[2]\nprint('x=',x)\n\ny=sigmoid(x)\n\nprint('y=',y)",
      "execution_count": 5,
      "outputs": [
        {
          "output_type": "stream",
          "text": "x= -0.4000000000000001\ny= 0.401312339887548\n",
          "name": "stdout"
        }
      ]
    },
    {
      "metadata": {
        "trusted": true
      },
      "cell_type": "code",
      "source": "print('{:.3f}'.format(x))\nprint('{:.3f}'.format(y))",
      "execution_count": 6,
      "outputs": [
        {
          "output_type": "stream",
          "text": "-0.400\n0.401\n",
          "name": "stdout"
        }
      ]
    },
    {
      "metadata": {
        "trusted": true
      },
      "cell_type": "code",
      "source": "\nx1=np.dot(X,w)\n\nprint('{:.3f}'.format(x1))",
      "execution_count": 7,
      "outputs": [
        {
          "output_type": "stream",
          "text": "-0.400\n",
          "name": "stdout"
        }
      ]
    },
    {
      "metadata": {
        "trusted": true
      },
      "cell_type": "code",
      "source": "def step_func(x):\n    return 1* (x>0 or x ==0)\n\nX=np.array([1,1,1])\n\nw=np.array([-1.2,0.7,0.9])\n\nx= np.dot(X,w)\ny=step_func(x)\nprint(y)",
      "execution_count": 10,
      "outputs": [
        {
          "output_type": "stream",
          "text": "1\n",
          "name": "stdout"
        }
      ]
    },
    {
      "metadata": {
        "trusted": true
      },
      "cell_type": "code",
      "source": "",
      "execution_count": null,
      "outputs": []
    }
  ],
  "metadata": {
    "kernelspec": {
      "name": "python36",
      "display_name": "Python 3.6",
      "language": "python"
    },
    "language_info": {
      "mimetype": "text/x-python",
      "nbconvert_exporter": "python",
      "name": "python",
      "pygments_lexer": "ipython3",
      "version": "3.6.6",
      "file_extension": ".py",
      "codemirror_mode": {
        "version": 3,
        "name": "ipython"
      }
    }
  },
  "nbformat": 4,
  "nbformat_minor": 2
}